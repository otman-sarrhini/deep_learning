{
  "nbformat": 4,
  "nbformat_minor": 0,
  "metadata": {
    "colab": {
      "provenance": [],
      "authorship_tag": "ABX9TyM2ZOuMK4U1y51elTUI/Q2+",
      "include_colab_link": true
    },
    "kernelspec": {
      "name": "python3",
      "display_name": "Python 3"
    },
    "language_info": {
      "name": "python"
    },
    "accelerator": "GPU",
    "gpuClass": "standard"
  },
  "cells": [
    {
      "cell_type": "markdown",
      "metadata": {
        "id": "view-in-github",
        "colab_type": "text"
      },
      "source": [
        "<a href=\"https://colab.research.google.com/github/otman-sarrhini/deep_learning/blob/master/02_pytorch_classification_solution.ipynb\" target=\"_parent\"><img src=\"https://colab.research.google.com/assets/colab-badge.svg\" alt=\"Open In Colab\"/></a>"
      ]
    },
    {
      "cell_type": "code",
      "execution_count": 1,
      "metadata": {
        "colab": {
          "base_uri": "https://localhost:8080/"
        },
        "id": "tuID-v1tJeWG",
        "outputId": "3c7f3cc9-383d-49e0-e299-b56b578a1014"
      },
      "outputs": [
        {
          "output_type": "stream",
          "name": "stdout",
          "text": [
            "Sun Dec 18 14:39:40 2022       \n",
            "+-----------------------------------------------------------------------------+\n",
            "| NVIDIA-SMI 460.32.03    Driver Version: 460.32.03    CUDA Version: 11.2     |\n",
            "|-------------------------------+----------------------+----------------------+\n",
            "| GPU  Name        Persistence-M| Bus-Id        Disp.A | Volatile Uncorr. ECC |\n",
            "| Fan  Temp  Perf  Pwr:Usage/Cap|         Memory-Usage | GPU-Util  Compute M. |\n",
            "|                               |                      |               MIG M. |\n",
            "|===============================+======================+======================|\n",
            "|   0  Tesla T4            Off  | 00000000:00:04.0 Off |                    0 |\n",
            "| N/A   65C    P0    29W /  70W |      0MiB / 15109MiB |      0%      Default |\n",
            "|                               |                      |                  N/A |\n",
            "+-------------------------------+----------------------+----------------------+\n",
            "                                                                               \n",
            "+-----------------------------------------------------------------------------+\n",
            "| Processes:                                                                  |\n",
            "|  GPU   GI   CI        PID   Type   Process name                  GPU Memory |\n",
            "|        ID   ID                                                   Usage      |\n",
            "|=============================================================================|\n",
            "|  No running processes found                                                 |\n",
            "+-----------------------------------------------------------------------------+\n"
          ]
        }
      ],
      "source": [
        "# check for gpu\n",
        "!nvidia-smi"
      ]
    },
    {
      "cell_type": "code",
      "source": [
        "import torch"
      ],
      "metadata": {
        "id": "WEK2T2jpJyxg"
      },
      "execution_count": 2,
      "outputs": []
    },
    {
      "cell_type": "code",
      "source": [
        "# set device\n",
        "device = \"cuda\" if torch.cuda.is_available() else \"cpu\"\n",
        "device"
      ],
      "metadata": {
        "colab": {
          "base_uri": "https://localhost:8080/",
          "height": 35
        },
        "id": "q1suj7zgJ5VQ",
        "outputId": "5f036b59-4903-470c-d186-cb04816f6948"
      },
      "execution_count": 3,
      "outputs": [
        {
          "output_type": "execute_result",
          "data": {
            "text/plain": [
              "'cuda'"
            ],
            "application/vnd.google.colaboratory.intrinsic+json": {
              "type": "string"
            }
          },
          "metadata": {},
          "execution_count": 3
        }
      ]
    },
    {
      "cell_type": "code",
      "source": [
        "# Make a binary classification dataset with Scikit-Learn's make_moons() function\n",
        "## Use 1000 samples and set random seed to 42\n",
        "## Turn data to tensors\n",
        "## slplit data to train and test with 80% train fraction\n",
        "\n",
        "from sklearn.datasets import make_moons\n",
        "\n",
        "NUM_SAMPLES = 1000\n",
        "RANDOM_SEED = 42\n",
        "\n",
        "X, y = make_moons(n_samples=NUM_SAMPLES, noise=0.07, random_state=RANDOM_SEED)\n",
        "\n",
        "print(f\"First 10 values of X {X[:10]}\")\n",
        "print(f\"Corresponding lables {y[:10]}\")"
      ],
      "metadata": {
        "colab": {
          "base_uri": "https://localhost:8080/"
        },
        "id": "Fv-SMzj6KBRe",
        "outputId": "d13acd44-22cc-47a7-a101-ebdd998fc54e"
      },
      "execution_count": 4,
      "outputs": [
        {
          "output_type": "stream",
          "name": "stdout",
          "text": [
            "First 10 values of X [[-0.03341062  0.4213911 ]\n",
            " [ 0.99882703 -0.4428903 ]\n",
            " [ 0.88959204 -0.32784256]\n",
            " [ 0.34195829 -0.41768975]\n",
            " [-0.83853099  0.53237483]\n",
            " [ 0.59906425 -0.28977331]\n",
            " [ 0.29009023 -0.2046885 ]\n",
            " [-0.03826868  0.45942924]\n",
            " [ 1.61377123 -0.2939697 ]\n",
            " [ 0.693337    0.82781911]]\n",
            "Corresponding lables [1 1 1 1 0 1 1 1 1 0]\n"
          ]
        }
      ]
    },
    {
      "cell_type": "code",
      "source": [
        "# turn data into dataframe\n",
        "\n",
        "import pandas as pd\n",
        "\n",
        "data_df = pd.DataFrame(\n",
        "    {\"X0\": X[:, 0],\n",
        "     \"X1\": X[:, 1],\n",
        "     \"y\": y}\n",
        ")\n",
        "\n",
        "data_df.head()"
      ],
      "metadata": {
        "colab": {
          "base_uri": "https://localhost:8080/",
          "height": 206
        },
        "id": "h0AhOFJRLS8D",
        "outputId": "aa7adb5f-36f9-4b05-b49b-27a1898acd59"
      },
      "execution_count": 5,
      "outputs": [
        {
          "output_type": "execute_result",
          "data": {
            "text/plain": [
              "         X0        X1  y\n",
              "0 -0.033411  0.421391  1\n",
              "1  0.998827 -0.442890  1\n",
              "2  0.889592 -0.327843  1\n",
              "3  0.341958 -0.417690  1\n",
              "4 -0.838531  0.532375  0"
            ],
            "text/html": [
              "\n",
              "  <div id=\"df-04360ee6-4f7e-4878-be63-6a439a92c0a3\">\n",
              "    <div class=\"colab-df-container\">\n",
              "      <div>\n",
              "<style scoped>\n",
              "    .dataframe tbody tr th:only-of-type {\n",
              "        vertical-align: middle;\n",
              "    }\n",
              "\n",
              "    .dataframe tbody tr th {\n",
              "        vertical-align: top;\n",
              "    }\n",
              "\n",
              "    .dataframe thead th {\n",
              "        text-align: right;\n",
              "    }\n",
              "</style>\n",
              "<table border=\"1\" class=\"dataframe\">\n",
              "  <thead>\n",
              "    <tr style=\"text-align: right;\">\n",
              "      <th></th>\n",
              "      <th>X0</th>\n",
              "      <th>X1</th>\n",
              "      <th>y</th>\n",
              "    </tr>\n",
              "  </thead>\n",
              "  <tbody>\n",
              "    <tr>\n",
              "      <th>0</th>\n",
              "      <td>-0.033411</td>\n",
              "      <td>0.421391</td>\n",
              "      <td>1</td>\n",
              "    </tr>\n",
              "    <tr>\n",
              "      <th>1</th>\n",
              "      <td>0.998827</td>\n",
              "      <td>-0.442890</td>\n",
              "      <td>1</td>\n",
              "    </tr>\n",
              "    <tr>\n",
              "      <th>2</th>\n",
              "      <td>0.889592</td>\n",
              "      <td>-0.327843</td>\n",
              "      <td>1</td>\n",
              "    </tr>\n",
              "    <tr>\n",
              "      <th>3</th>\n",
              "      <td>0.341958</td>\n",
              "      <td>-0.417690</td>\n",
              "      <td>1</td>\n",
              "    </tr>\n",
              "    <tr>\n",
              "      <th>4</th>\n",
              "      <td>-0.838531</td>\n",
              "      <td>0.532375</td>\n",
              "      <td>0</td>\n",
              "    </tr>\n",
              "  </tbody>\n",
              "</table>\n",
              "</div>\n",
              "      <button class=\"colab-df-convert\" onclick=\"convertToInteractive('df-04360ee6-4f7e-4878-be63-6a439a92c0a3')\"\n",
              "              title=\"Convert this dataframe to an interactive table.\"\n",
              "              style=\"display:none;\">\n",
              "        \n",
              "  <svg xmlns=\"http://www.w3.org/2000/svg\" height=\"24px\"viewBox=\"0 0 24 24\"\n",
              "       width=\"24px\">\n",
              "    <path d=\"M0 0h24v24H0V0z\" fill=\"none\"/>\n",
              "    <path d=\"M18.56 5.44l.94 2.06.94-2.06 2.06-.94-2.06-.94-.94-2.06-.94 2.06-2.06.94zm-11 1L8.5 8.5l.94-2.06 2.06-.94-2.06-.94L8.5 2.5l-.94 2.06-2.06.94zm10 10l.94 2.06.94-2.06 2.06-.94-2.06-.94-.94-2.06-.94 2.06-2.06.94z\"/><path d=\"M17.41 7.96l-1.37-1.37c-.4-.4-.92-.59-1.43-.59-.52 0-1.04.2-1.43.59L10.3 9.45l-7.72 7.72c-.78.78-.78 2.05 0 2.83L4 21.41c.39.39.9.59 1.41.59.51 0 1.02-.2 1.41-.59l7.78-7.78 2.81-2.81c.8-.78.8-2.07 0-2.86zM5.41 20L4 18.59l7.72-7.72 1.47 1.35L5.41 20z\"/>\n",
              "  </svg>\n",
              "      </button>\n",
              "      \n",
              "  <style>\n",
              "    .colab-df-container {\n",
              "      display:flex;\n",
              "      flex-wrap:wrap;\n",
              "      gap: 12px;\n",
              "    }\n",
              "\n",
              "    .colab-df-convert {\n",
              "      background-color: #E8F0FE;\n",
              "      border: none;\n",
              "      border-radius: 50%;\n",
              "      cursor: pointer;\n",
              "      display: none;\n",
              "      fill: #1967D2;\n",
              "      height: 32px;\n",
              "      padding: 0 0 0 0;\n",
              "      width: 32px;\n",
              "    }\n",
              "\n",
              "    .colab-df-convert:hover {\n",
              "      background-color: #E2EBFA;\n",
              "      box-shadow: 0px 1px 2px rgba(60, 64, 67, 0.3), 0px 1px 3px 1px rgba(60, 64, 67, 0.15);\n",
              "      fill: #174EA6;\n",
              "    }\n",
              "\n",
              "    [theme=dark] .colab-df-convert {\n",
              "      background-color: #3B4455;\n",
              "      fill: #D2E3FC;\n",
              "    }\n",
              "\n",
              "    [theme=dark] .colab-df-convert:hover {\n",
              "      background-color: #434B5C;\n",
              "      box-shadow: 0px 1px 3px 1px rgba(0, 0, 0, 0.15);\n",
              "      filter: drop-shadow(0px 1px 2px rgba(0, 0, 0, 0.3));\n",
              "      fill: #FFFFFF;\n",
              "    }\n",
              "  </style>\n",
              "\n",
              "      <script>\n",
              "        const buttonEl =\n",
              "          document.querySelector('#df-04360ee6-4f7e-4878-be63-6a439a92c0a3 button.colab-df-convert');\n",
              "        buttonEl.style.display =\n",
              "          google.colab.kernel.accessAllowed ? 'block' : 'none';\n",
              "\n",
              "        async function convertToInteractive(key) {\n",
              "          const element = document.querySelector('#df-04360ee6-4f7e-4878-be63-6a439a92c0a3');\n",
              "          const dataTable =\n",
              "            await google.colab.kernel.invokeFunction('convertToInteractive',\n",
              "                                                     [key], {});\n",
              "          if (!dataTable) return;\n",
              "\n",
              "          const docLinkHtml = 'Like what you see? Visit the ' +\n",
              "            '<a target=\"_blank\" href=https://colab.research.google.com/notebooks/data_table.ipynb>data table notebook</a>'\n",
              "            + ' to learn more about interactive tables.';\n",
              "          element.innerHTML = '';\n",
              "          dataTable['output_type'] = 'display_data';\n",
              "          await google.colab.output.renderOutput(dataTable, element);\n",
              "          const docLink = document.createElement('div');\n",
              "          docLink.innerHTML = docLinkHtml;\n",
              "          element.appendChild(docLink);\n",
              "        }\n",
              "      </script>\n",
              "    </div>\n",
              "  </div>\n",
              "  "
            ]
          },
          "metadata": {},
          "execution_count": 5
        }
      ]
    },
    {
      "cell_type": "code",
      "source": [
        "X.shape, y.shape"
      ],
      "metadata": {
        "colab": {
          "base_uri": "https://localhost:8080/"
        },
        "id": "yjUJcgdtL2mW",
        "outputId": "81a5a9b8-6c7d-4f30-ef86-bfb5b7c98460"
      },
      "execution_count": 6,
      "outputs": [
        {
          "output_type": "execute_result",
          "data": {
            "text/plain": [
              "((1000, 2), (1000,))"
            ]
          },
          "metadata": {},
          "execution_count": 6
        }
      ]
    },
    {
      "cell_type": "code",
      "source": [
        "# Visualise data\n",
        "import matplotlib.pyplot as plt\n",
        "\n",
        "plt.scatter(x=X[:, 0],\n",
        "            y=X[:, 1],\n",
        "            c=y,\n",
        "            cmap=plt.cm.RdYlBu)"
      ],
      "metadata": {
        "colab": {
          "base_uri": "https://localhost:8080/",
          "height": 282
        },
        "id": "FMtfdDFWMCIe",
        "outputId": "6a5f113e-e681-4519-e9a6-5381057a7708"
      },
      "execution_count": 7,
      "outputs": [
        {
          "output_type": "execute_result",
          "data": {
            "text/plain": [
              "<matplotlib.collections.PathCollection at 0x7fc70ae533d0>"
            ]
          },
          "metadata": {},
          "execution_count": 7
        },
        {
          "output_type": "display_data",
          "data": {
            "text/plain": [
              "<Figure size 432x288 with 1 Axes>"
            ],
            "image/png": "[encoded data removed]"
          },
          "metadata": {
            "needs_background": "light"
          }
        }
      ]
    },
    {
      "cell_type": "code",
      "source": [
        "# Turn data to tensors and make split\n",
        "\n",
        "X = torch.from_numpy(X).float()\n",
        "\n",
        "type(X), X.dtype, X.shape"
      ],
      "metadata": {
        "colab": {
          "base_uri": "https://localhost:8080/"
        },
        "id": "5ir4MzAXMfhZ",
        "outputId": "758b8b8b-0469-4477-e740-6c751171f107"
      },
      "execution_count": 8,
      "outputs": [
        {
          "output_type": "execute_result",
          "data": {
            "text/plain": [
              "(torch.Tensor, torch.float32, torch.Size([1000, 2]))"
            ]
          },
          "metadata": {},
          "execution_count": 8
        }
      ]
    },
    {
      "cell_type": "code",
      "source": [
        "y = torch.from_numpy(y).float()\n",
        "\n",
        "type(y), y.dtype, y.shape"
      ],
      "metadata": {
        "colab": {
          "base_uri": "https://localhost:8080/"
        },
        "id": "Aub7vDKWM9Dy",
        "outputId": "fe820e3c-394f-4940-c8a2-a5fc0369cd62"
      },
      "execution_count": 9,
      "outputs": [
        {
          "output_type": "execute_result",
          "data": {
            "text/plain": [
              "(torch.Tensor, torch.float32, torch.Size([1000]))"
            ]
          },
          "metadata": {},
          "execution_count": 9
        }
      ]
    },
    {
      "cell_type": "code",
      "source": [
        "from sklearn.model_selection import train_test_split\n",
        "\n",
        "X_train, X_test, y_train, y_test = train_test_split(\n",
        "    X, \n",
        "    y, \n",
        "    test_size=0.2,\n",
        "    random_state=RANDOM_SEED\n",
        ")\n",
        "\n",
        "len(X_train), X_train.shape"
      ],
      "metadata": {
        "colab": {
          "base_uri": "https://localhost:8080/"
        },
        "id": "DTRU0QV_NJl6",
        "outputId": "7fe1f098-3aa6-4908-92ca-a337e8caddad"
      },
      "execution_count": 10,
      "outputs": [
        {
          "output_type": "execute_result",
          "data": {
            "text/plain": [
              "(800, torch.Size([800, 2]))"
            ]
          },
          "metadata": {},
          "execution_count": 10
        }
      ]
    },
    {
      "cell_type": "code",
      "source": [
        "import torch.nn as nn"
      ],
      "metadata": {
        "id": "-eWQsHoAPR3w"
      },
      "execution_count": 11,
      "outputs": []
    },
    {
      "cell_type": "code",
      "source": [
        "# Model to fit data created\n",
        "\n",
        "class MoonModelV0(nn.Module):\n",
        "  def __init__(self, in_features, out_features, hidden_units):\n",
        "    super().__init__()\n",
        "\n",
        "    self.model = nn.Sequential(\n",
        "        nn.Linear(in_features, hidden_units),\n",
        "        nn.LeakyReLU(negative_slope=0.02),\n",
        "        nn.Linear(hidden_units, hidden_units),\n",
        "        nn.LeakyReLU(negative_slope=0.02),\n",
        "        nn.Linear(hidden_units, out_features)\n",
        "    )\n",
        "\n",
        "  def forward(self, x):\n",
        "    return self.model(x)\n",
        "\n",
        "    "
      ],
      "metadata": {
        "id": "Xet_y-4mNz96"
      },
      "execution_count": 12,
      "outputs": []
    },
    {
      "cell_type": "code",
      "source": [
        "in_features = X_train.shape[1]\n",
        "out_features = 1\n",
        "hidden_units = 10\n",
        "\n",
        "in_features, out_features, hidden_units"
      ],
      "metadata": {
        "colab": {
          "base_uri": "https://localhost:8080/"
        },
        "id": "k8Qaj5UzQT_J",
        "outputId": "4c977a41-eb08-4559-8bee-cb0292775f66"
      },
      "execution_count": 13,
      "outputs": [
        {
          "output_type": "execute_result",
          "data": {
            "text/plain": [
              "(2, 1, 10)"
            ]
          },
          "metadata": {},
          "execution_count": 13
        }
      ]
    },
    {
      "cell_type": "code",
      "source": [
        "!pip -q install torchmetrics"
      ],
      "metadata": {
        "id": "x6BGkLNzec26"
      },
      "execution_count": 14,
      "outputs": []
    },
    {
      "cell_type": "code",
      "source": [
        "from torchmetrics.classification import BinaryAccuracy"
      ],
      "metadata": {
        "id": "qzD-f5LNelUJ"
      },
      "execution_count": 15,
      "outputs": []
    },
    {
      "cell_type": "code",
      "source": [
        "accuracy_fn = BinaryAccuracy().to(device)\n"
      ],
      "metadata": {
        "id": "Fx6Bu_HKWLyM"
      },
      "execution_count": 16,
      "outputs": []
    },
    {
      "cell_type": "code",
      "source": [],
      "metadata": {
        "id": "CoijIXolQ6pJ"
      },
      "execution_count": 16,
      "outputs": []
    },
    {
      "cell_type": "code",
      "source": [
        "loss_fn = nn.BCEWithLogitsLoss()\n",
        "\n",
        "# Setup binary classification compatible loss function and optimizer\n",
        "torch.cuda.manual_seed(RANDOM_SEED)\n",
        "model_0 = MoonModelV0(in_features, out_features, hidden_units).to(device)\n",
        "optimizer = torch.optim.SGD(model_0.parameters(), lr=0.1)\n",
        "\n",
        "# Create a training and testing loop to train the model\n",
        "Epochs = 1000\n",
        "\n",
        "train_losses = []\n",
        "test_losses = []\n",
        "train_accuracies = []\n",
        "test_accuracies = []\n",
        "\n",
        "X_train, y_train = X_train.to(device), y_train.to(device)\n",
        "X_test, y_test = X_test.to(device), y_test.to(device)\n",
        "\n",
        "for epoch in range(Epochs):\n",
        "\n",
        "  # Put model into train mode\n",
        "  model_0.train()\n",
        "\n",
        "  # Make a prediction\n",
        "  y_logits = model_0(X_train).squeeze() # Squeeze to remove extra 1\n",
        "  y_preds = torch.round(torch.sigmoid(y_logits))  # turn logits into probabilities\n",
        "  \n",
        "  # backpropagation\n",
        "  loss = loss_fn(y_logits, y_train)\n",
        "  # loss = loss_fn(y_train, y_logits) # When using line 30 instead of line 29, I get error at line 50\n",
        "\n",
        "  # Capture accuracy\n",
        "  acc = accuracy_fn(y_train.int(), y_preds)\n",
        "  train_accuracies.append(acc.cpu())\n",
        "  train_losses.append(loss.item())\n",
        "\n",
        "  # zero grad\n",
        "  optimizer.zero_grad()\n",
        "  loss.backward()\n",
        "\n",
        "  optimizer.step()\n",
        "\n",
        "  # Evaluate current model on test data\n",
        "  model_0.eval()\n",
        "  with torch.inference_mode():\n",
        "    test_logits = model_0(X_test).squeeze()\n",
        "    test_preds = torch.round(torch.sigmoid(test_logits))\n",
        "    test_loss = loss_fn(y_test, test_logits)\n",
        "\n",
        "    test_acc = accuracy_fn(y_test.int(), test_preds)\n",
        "\n",
        "    test_accuracies.append(test_acc.cpu())\n",
        "    test_losses.append(test_loss.item())\n",
        "\n",
        "  if epoch % 10 == 0:\n",
        "    # print current state\n",
        "    print(f\"Epoch: {epoch} | train loss: {loss.item():.4f} | test loss: {test_loss.item():.4f} | train acc: {acc:.3f} | test acc: {test_acc:.3f}\")\n",
        "\n",
        "\n",
        "\n",
        "  \n",
        "\n"
      ],
      "metadata": {
        "colab": {
          "base_uri": "https://localhost:8080/"
        },
        "id": "REWAN32qRYFS",
        "outputId": "ea307589-41c5-4aaa-cfd2-8caa1c21b201"
      },
      "execution_count": 23,
      "outputs": [
        {
          "output_type": "stream",
          "name": "stdout",
          "text": [
            "Epoch: 0 | train loss: 0.6936 | test loss: 0.9973 | train acc: 0.582 | test acc: 0.655\n",
            "Epoch: 10 | train loss: 0.6811 | test loss: 0.9600 | train acc: 0.640 | test acc: 0.665\n",
            "Epoch: 20 | train loss: 0.6666 | test loss: 0.9334 | train acc: 0.700 | test acc: 0.720\n",
            "Epoch: 30 | train loss: 0.6452 | test loss: 0.9051 | train acc: 0.832 | test acc: 0.820\n",
            "Epoch: 40 | train loss: 0.6127 | test loss: 0.8712 | train acc: 0.874 | test acc: 0.850\n",
            "Epoch: 50 | train loss: 0.5648 | test loss: 0.8215 | train acc: 0.861 | test acc: 0.875\n",
            "Epoch: 60 | train loss: 0.5043 | test loss: 0.7444 | train acc: 0.856 | test acc: 0.870\n",
            "Epoch: 70 | train loss: 0.4386 | test loss: 0.6429 | train acc: 0.856 | test acc: 0.850\n",
            "Epoch: 80 | train loss: 0.3798 | test loss: 0.5266 | train acc: 0.860 | test acc: 0.850\n",
            "Epoch: 90 | train loss: 0.3359 | test loss: 0.4093 | train acc: 0.864 | test acc: 0.855\n",
            "Epoch: 100 | train loss: 0.3063 | test loss: 0.3041 | train acc: 0.873 | test acc: 0.855\n",
            "Epoch: 110 | train loss: 0.2868 | test loss: 0.2135 | train acc: 0.874 | test acc: 0.870\n",
            "Epoch: 120 | train loss: 0.2737 | test loss: 0.1358 | train acc: 0.875 | test acc: 0.890\n",
            "Epoch: 130 | train loss: 0.2645 | test loss: 0.0678 | train acc: 0.879 | test acc: 0.890\n",
            "Epoch: 140 | train loss: 0.2578 | test loss: 0.0083 | train acc: 0.881 | test acc: 0.890\n",
            "Epoch: 150 | train loss: 0.2527 | test loss: -0.0439 | train acc: 0.884 | test acc: 0.890\n",
            "Epoch: 160 | train loss: 0.2488 | test loss: -0.0899 | train acc: 0.885 | test acc: 0.890\n",
            "Epoch: 170 | train loss: 0.2456 | test loss: -0.1307 | train acc: 0.886 | test acc: 0.895\n",
            "Epoch: 180 | train loss: 0.2430 | test loss: -0.1668 | train acc: 0.891 | test acc: 0.895\n",
            "Epoch: 190 | train loss: 0.2409 | test loss: -0.1992 | train acc: 0.894 | test acc: 0.895\n",
            "Epoch: 200 | train loss: 0.2390 | test loss: -0.2281 | train acc: 0.895 | test acc: 0.890\n",
            "Epoch: 210 | train loss: 0.2374 | test loss: -0.2540 | train acc: 0.895 | test acc: 0.895\n",
            "Epoch: 220 | train loss: 0.2359 | test loss: -0.2773 | train acc: 0.896 | test acc: 0.900\n",
            "Epoch: 230 | train loss: 0.2345 | test loss: -0.2985 | train acc: 0.895 | test acc: 0.895\n",
            "Epoch: 240 | train loss: 0.2332 | test loss: -0.3177 | train acc: 0.894 | test acc: 0.895\n",
            "Epoch: 250 | train loss: 0.2320 | test loss: -0.3353 | train acc: 0.895 | test acc: 0.895\n",
            "Epoch: 260 | train loss: 0.2308 | test loss: -0.3513 | train acc: 0.895 | test acc: 0.895\n",
            "Epoch: 270 | train loss: 0.2297 | test loss: -0.3659 | train acc: 0.895 | test acc: 0.895\n",
            "Epoch: 280 | train loss: 0.2286 | test loss: -0.3794 | train acc: 0.895 | test acc: 0.895\n",
            "Epoch: 290 | train loss: 0.2276 | test loss: -0.3917 | train acc: 0.894 | test acc: 0.895\n",
            "Epoch: 300 | train loss: 0.2266 | test loss: -0.4031 | train acc: 0.894 | test acc: 0.895\n",
            "Epoch: 310 | train loss: 0.2257 | test loss: -0.4137 | train acc: 0.896 | test acc: 0.895\n",
            "Epoch: 320 | train loss: 0.2247 | test loss: -0.4236 | train acc: 0.897 | test acc: 0.895\n",
            "Epoch: 330 | train loss: 0.2238 | test loss: -0.4327 | train acc: 0.897 | test acc: 0.895\n",
            "Epoch: 340 | train loss: 0.2230 | test loss: -0.4412 | train acc: 0.901 | test acc: 0.895\n",
            "Epoch: 350 | train loss: 0.2221 | test loss: -0.4493 | train acc: 0.900 | test acc: 0.895\n",
            "Epoch: 360 | train loss: 0.2213 | test loss: -0.4571 | train acc: 0.901 | test acc: 0.895\n",
            "Epoch: 370 | train loss: 0.2205 | test loss: -0.4645 | train acc: 0.901 | test acc: 0.895\n",
            "Epoch: 380 | train loss: 0.2197 | test loss: -0.4715 | train acc: 0.901 | test acc: 0.895\n",
            "Epoch: 390 | train loss: 0.2190 | test loss: -0.4783 | train acc: 0.901 | test acc: 0.895\n",
            "Epoch: 400 | train loss: 0.2183 | test loss: -0.4849 | train acc: 0.902 | test acc: 0.890\n",
            "Epoch: 410 | train loss: 0.2176 | test loss: -0.4912 | train acc: 0.902 | test acc: 0.890\n",
            "Epoch: 420 | train loss: 0.2169 | test loss: -0.4973 | train acc: 0.902 | test acc: 0.890\n",
            "Epoch: 430 | train loss: 0.2163 | test loss: -0.5032 | train acc: 0.902 | test acc: 0.890\n",
            "Epoch: 440 | train loss: 0.2156 | test loss: -0.5087 | train acc: 0.902 | test acc: 0.890\n",
            "Epoch: 450 | train loss: 0.2151 | test loss: -0.5142 | train acc: 0.902 | test acc: 0.890\n",
            "Epoch: 460 | train loss: 0.2145 | test loss: -0.5193 | train acc: 0.902 | test acc: 0.890\n",
            "Epoch: 470 | train loss: 0.2139 | test loss: -0.5243 | train acc: 0.902 | test acc: 0.890\n",
            "Epoch: 480 | train loss: 0.2134 | test loss: -0.5290 | train acc: 0.904 | test acc: 0.890\n",
            "Epoch: 490 | train loss: 0.2129 | test loss: -0.5335 | train acc: 0.904 | test acc: 0.890\n",
            "Epoch: 500 | train loss: 0.2124 | test loss: -0.5379 | train acc: 0.902 | test acc: 0.890\n",
            "Epoch: 510 | train loss: 0.2120 | test loss: -0.5421 | train acc: 0.902 | test acc: 0.890\n",
            "Epoch: 520 | train loss: 0.2115 | test loss: -0.5460 | train acc: 0.902 | test acc: 0.890\n",
            "Epoch: 530 | train loss: 0.2111 | test loss: -0.5496 | train acc: 0.904 | test acc: 0.890\n",
            "Epoch: 540 | train loss: 0.2107 | test loss: -0.5532 | train acc: 0.906 | test acc: 0.890\n",
            "Epoch: 550 | train loss: 0.2103 | test loss: -0.5565 | train acc: 0.906 | test acc: 0.890\n",
            "Epoch: 560 | train loss: 0.2099 | test loss: -0.5597 | train acc: 0.906 | test acc: 0.890\n",
            "Epoch: 570 | train loss: 0.2096 | test loss: -0.5626 | train acc: 0.906 | test acc: 0.890\n",
            "Epoch: 580 | train loss: 0.2092 | test loss: -0.5654 | train acc: 0.906 | test acc: 0.890\n",
            "Epoch: 590 | train loss: 0.2088 | test loss: -0.5681 | train acc: 0.906 | test acc: 0.890\n",
            "Epoch: 600 | train loss: 0.2085 | test loss: -0.5705 | train acc: 0.906 | test acc: 0.890\n",
            "Epoch: 610 | train loss: 0.2081 | test loss: -0.5729 | train acc: 0.906 | test acc: 0.890\n",
            "Epoch: 620 | train loss: 0.2078 | test loss: -0.5752 | train acc: 0.906 | test acc: 0.890\n",
            "Epoch: 630 | train loss: 0.2075 | test loss: -0.5773 | train acc: 0.906 | test acc: 0.890\n",
            "Epoch: 640 | train loss: 0.2072 | test loss: -0.5793 | train acc: 0.905 | test acc: 0.890\n",
            "Epoch: 650 | train loss: 0.2069 | test loss: -0.5812 | train acc: 0.905 | test acc: 0.890\n",
            "Epoch: 660 | train loss: 0.2065 | test loss: -0.5830 | train acc: 0.905 | test acc: 0.890\n",
            "Epoch: 670 | train loss: 0.2062 | test loss: -0.5848 | train acc: 0.905 | test acc: 0.890\n",
            "Epoch: 680 | train loss: 0.2059 | test loss: -0.5864 | train acc: 0.905 | test acc: 0.890\n",
            "Epoch: 690 | train loss: 0.2056 | test loss: -0.5879 | train acc: 0.905 | test acc: 0.890\n",
            "Epoch: 700 | train loss: 0.2053 | test loss: -0.5894 | train acc: 0.905 | test acc: 0.890\n",
            "Epoch: 710 | train loss: 0.2050 | test loss: -0.5907 | train acc: 0.905 | test acc: 0.890\n",
            "Epoch: 720 | train loss: 0.2047 | test loss: -0.5920 | train acc: 0.905 | test acc: 0.890\n",
            "Epoch: 730 | train loss: 0.2044 | test loss: -0.5933 | train acc: 0.906 | test acc: 0.890\n",
            "Epoch: 740 | train loss: 0.2041 | test loss: -0.5945 | train acc: 0.906 | test acc: 0.890\n",
            "Epoch: 750 | train loss: 0.2038 | test loss: -0.5955 | train acc: 0.906 | test acc: 0.890\n",
            "Epoch: 760 | train loss: 0.2034 | test loss: -0.5965 | train acc: 0.906 | test acc: 0.890\n",
            "Epoch: 770 | train loss: 0.2031 | test loss: -0.5974 | train acc: 0.906 | test acc: 0.890\n",
            "Epoch: 780 | train loss: 0.2028 | test loss: -0.5983 | train acc: 0.906 | test acc: 0.890\n",
            "Epoch: 790 | train loss: 0.2024 | test loss: -0.5991 | train acc: 0.906 | test acc: 0.890\n",
            "Epoch: 800 | train loss: 0.2021 | test loss: -0.5999 | train acc: 0.906 | test acc: 0.890\n",
            "Epoch: 810 | train loss: 0.2017 | test loss: -0.6006 | train acc: 0.906 | test acc: 0.890\n",
            "Epoch: 820 | train loss: 0.2014 | test loss: -0.6012 | train acc: 0.906 | test acc: 0.890\n",
            "Epoch: 830 | train loss: 0.2010 | test loss: -0.6017 | train acc: 0.906 | test acc: 0.890\n",
            "Epoch: 840 | train loss: 0.2006 | test loss: -0.6023 | train acc: 0.908 | test acc: 0.890\n",
            "Epoch: 850 | train loss: 0.2002 | test loss: -0.6029 | train acc: 0.908 | test acc: 0.895\n",
            "Epoch: 860 | train loss: 0.1998 | test loss: -0.6034 | train acc: 0.908 | test acc: 0.895\n",
            "Epoch: 870 | train loss: 0.1994 | test loss: -0.6038 | train acc: 0.908 | test acc: 0.895\n",
            "Epoch: 880 | train loss: 0.1989 | test loss: -0.6042 | train acc: 0.908 | test acc: 0.895\n",
            "Epoch: 890 | train loss: 0.1985 | test loss: -0.6046 | train acc: 0.908 | test acc: 0.895\n",
            "Epoch: 900 | train loss: 0.1980 | test loss: -0.6050 | train acc: 0.908 | test acc: 0.895\n",
            "Epoch: 910 | train loss: 0.1975 | test loss: -0.6052 | train acc: 0.908 | test acc: 0.895\n",
            "Epoch: 920 | train loss: 0.1970 | test loss: -0.6055 | train acc: 0.908 | test acc: 0.895\n",
            "Epoch: 930 | train loss: 0.1965 | test loss: -0.6057 | train acc: 0.908 | test acc: 0.895\n",
            "Epoch: 940 | train loss: 0.1960 | test loss: -0.6058 | train acc: 0.908 | test acc: 0.895\n",
            "Epoch: 950 | train loss: 0.1954 | test loss: -0.6060 | train acc: 0.908 | test acc: 0.895\n",
            "Epoch: 960 | train loss: 0.1948 | test loss: -0.6059 | train acc: 0.909 | test acc: 0.895\n",
            "Epoch: 970 | train loss: 0.1942 | test loss: -0.6059 | train acc: 0.909 | test acc: 0.895\n",
            "Epoch: 980 | train loss: 0.1935 | test loss: -0.6058 | train acc: 0.909 | test acc: 0.895\n",
            "Epoch: 990 | train loss: 0.1928 | test loss: -0.6056 | train acc: 0.910 | test acc: 0.895\n"
          ]
        }
      ]
    },
    {
      "cell_type": "code",
      "source": [
        "loss"
      ],
      "metadata": {
        "colab": {
          "base_uri": "https://localhost:8080/"
        },
        "id": "PD6G38Hcjc5v",
        "outputId": "8fcc2c90-b6e6-4f60-8ef4-e07d12cb0def"
      },
      "execution_count": 20,
      "outputs": [
        {
          "output_type": "execute_result",
          "data": {
            "text/plain": [
              "tensor(nan, device='cuda:0', grad_fn=<BinaryCrossEntropyWithLogitsBackward0>)"
            ]
          },
          "metadata": {},
          "execution_count": 20
        }
      ]
    },
    {
      "cell_type": "code",
      "source": [
        "len(train_losses)\n",
        "\n",
        "type(train_losses[0]), train_losses[:5]"
      ],
      "metadata": {
        "colab": {
          "base_uri": "https://localhost:8080/"
        },
        "id": "aeluYKB4bPF9",
        "outputId": "3716bf13-d3fc-4e1d-e0e2-25f831ea8f38"
      },
      "execution_count": 24,
      "outputs": [
        {
          "output_type": "execute_result",
          "data": {
            "text/plain": [
              "(float,\n",
              " [0.6935648918151855,\n",
              "  0.6922389268875122,\n",
              "  0.6909523606300354,\n",
              "  0.6896969676017761,\n",
              "  0.6884656548500061])"
            ]
          },
          "metadata": {},
          "execution_count": 24
        }
      ]
    },
    {
      "cell_type": "code",
      "source": [
        "len(train_accuracies)\n",
        "\n",
        "type(train_accuracies[0]), train_accuracies[:5]"
      ],
      "metadata": {
        "colab": {
          "base_uri": "https://localhost:8080/"
        },
        "id": "6iPiOfakb9zT",
        "outputId": "4f39534a-cc0a-4831-f8e2-dbee49723a33"
      },
      "execution_count": 25,
      "outputs": [
        {
          "output_type": "execute_result",
          "data": {
            "text/plain": [
              "(torch.Tensor,\n",
              " [tensor(0.5825),\n",
              "  tensor(0.5925),\n",
              "  tensor(0.5962),\n",
              "  tensor(0.6025),\n",
              "  tensor(0.6075)])"
            ]
          },
          "metadata": {},
          "execution_count": 25
        }
      ]
    },
    {
      "cell_type": "code",
      "source": [
        "import numpy as np"
      ],
      "metadata": {
        "id": "3lVJ13k5deOw"
      },
      "execution_count": 21,
      "outputs": []
    },
    {
      "cell_type": "code",
      "source": [
        "arr_train_losses = np.array(train_losses)\n",
        "arr_test_losses = np.array(test_losses)\n",
        "arr_train_accuracies = np.array(train_accuracies)\n",
        "arr_test_accuracies = np.array(test_accuracies)"
      ],
      "metadata": {
        "id": "cmfjuC0sdhQz"
      },
      "execution_count": 26,
      "outputs": []
    },
    {
      "cell_type": "code",
      "source": [
        "plt.figure(figsize = (10, 7))\n",
        "\n",
        "plt.plot(range(Epochs), arr_train_losses, c='b', label=\"train losses\")\n",
        "plt.plot(range(Epochs), arr_test_losses, c='r', label=\"test losses\")\n",
        "plt.legend()\n",
        "plt.show()\n"
      ],
      "metadata": {
        "colab": {
          "base_uri": "https://localhost:8080/",
          "height": 428
        },
        "id": "DA4q5YYQcPmC",
        "outputId": "437d2c02-e4fc-48d6-cc02-f3ff69c6ef9a"
      },
      "execution_count": 27,
      "outputs": [
        {
          "output_type": "display_data",
          "data": {
            "text/plain": [
              "<Figure size 720x504 with 1 Axes>"
            ],
            "image/png": "[encoded data removed]"
          },
          "metadata": {
            "needs_background": "light"
          }
        }
      ]
    },
    {
      "cell_type": "code",
      "source": [
        "plt.figure(figsize = (10, 7))\n",
        "\n",
        "plt.plot(range(Epochs), arr_train_accuracies, c='b', label=\"train accuracies\")\n",
        "plt.plot(range(Epochs), arr_test_accuracies, c='r', label=\"test accuracies\")\n",
        "plt.legend()\n",
        "plt.show()"
      ],
      "metadata": {
        "colab": {
          "base_uri": "https://localhost:8080/",
          "height": 428
        },
        "id": "0zu59SlsdmDL",
        "outputId": "542a4c5e-342e-4332-f900-53a2a1d02a85"
      },
      "execution_count": 28,
      "outputs": [
        {
          "output_type": "display_data",
          "data": {
            "text/plain": [
              "<Figure size 720x504 with 1 Axes>"
            ],
            "image/png": "[encoded data removed]"
          },
          "metadata": {
            "needs_background": "light"
          }
        }
      ]
    },
    {
      "cell_type": "code",
      "source": [],
      "metadata": {
        "id": "-rtKAJ3it2ov"
      },
      "execution_count": null,
      "outputs": []
    }
  ]
}