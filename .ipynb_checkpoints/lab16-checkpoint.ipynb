{
 "cells": [
  {
   "cell_type": "markdown",
   "metadata": {},
   "source": [
    "<h1>Logistic Regression</h1>\n",
    "\n",
    "<h2>Table of Contents</h2>\n",
    "<p><span style=\"background-color: #FFFF00; font-weight: bold;\">In this lab, we will cover logistic regression using PyTorch.</span></p>\n",
    "\n",
    "<ul>\n",
    "    <li><a href=\"#Log\">Logistic Function</a></li>\n",
    "    <li><a href=\"#Seq\">Build a Logistic Regression Using nn.Sequential</a></li>\n",
    "    <li><a href=\"#Model\">Build Custom Modules</a></li>\n",
    "</ul>\n",
    "<p>Estimated Time Needed: <strong>15 min</strong></p>\n",
    "\n",
    "<hr>"
   ]
  },
  {
   "cell_type": "code",
   "execution_count": 1,
   "metadata": {},
   "outputs": [
    {
     "data": {
      "text/plain": [
       "<torch._C.Generator at 0x23ff6738470>"
      ]
     },
     "execution_count": 1,
     "metadata": {},
     "output_type": "execute_result"
    }
   ],
   "source": [
    "# Import needed library\n",
    "\n",
    "import torch.nn as nn\n",
    "import torch\n",
    "import matplotlib.pyplot as plt\n",
    "\n",
    "# Set the random seed\n",
    "torch.manual_seed(2)"
   ]
  },
  {
   "cell_type": "markdown",
   "metadata": {},
   "source": [
    "<h2 id=\"Log\">Logistic Function</h2>"
   ]
  },
  {
   "cell_type": "code",
   "execution_count": 2,
   "metadata": {},
   "outputs": [
    {
     "name": "stdout",
     "output_type": "stream",
     "text": [
      "The tensor:  tensor([[-100.0000],\n",
      "        [ -99.9000],\n",
      "        [ -99.8000],\n",
      "        ...,\n",
      "        [  99.7000],\n",
      "        [  99.8000],\n",
      "        [  99.9000]])\n"
     ]
    }
   ],
   "source": [
    "# Create a tensor\n",
    "\n",
    "z = torch.arange(-100, 100, 0.1).view(-1, 1)\n",
    "print(\"The tensor: \", z)"
   ]
  },
  {
   "cell_type": "code",
   "execution_count": 3,
   "metadata": {},
   "outputs": [
    {
     "data": {
      "text/plain": [
       "Text(0, 0.5, 'Sigmoid(z)')"
      ]
     },
     "execution_count": 3,
     "metadata": {},
     "output_type": "execute_result"
    },
    {
     "data": {
      "image/png": "[encoded data removed]",
      "text/plain": [
       "<Figure size 432x288 with 1 Axes>"
      ]
     },
     "metadata": {
      "needs_background": "light"
     },
     "output_type": "display_data"
    }
   ],
   "source": [
    "# Create the sigmoid function using nn\n",
    "sig = nn.Sigmoid()\n",
    "\n",
    "# Apply sigmoid to the elements of z\n",
    "yhat = sig(z)\n",
    "\n",
    "# Plot the results\n",
    "plt.plot(z.numpy(), yhat.numpy())\n",
    "plt.xlabel('z')\n",
    "plt.ylabel('Sigmoid(z)')"
   ]
  },
  {
   "cell_type": "code",
   "execution_count": 4,
   "metadata": {},
   "outputs": [
    {
     "data": {
      "text/plain": [
       "[<matplotlib.lines.Line2D at 0x23ffa1b4208>]"
      ]
     },
     "execution_count": 4,
     "metadata": {},
     "output_type": "execute_result"
    },
    {
     "data": {
      "image/png": "[encoded data removed]",
      "text/plain": [
       "<Figure size 432x288 with 1 Axes>"
      ]
     },
     "metadata": {
      "needs_background": "light"
     },
     "output_type": "display_data"
    }
   ],
   "source": [
    "# Use torch's sigmoid function\n",
    "yhat = torch.sigmoid(z)\n",
    "plt.plot(z.numpy(), yhat.numpy())"
   ]
  },
  {
   "cell_type": "markdown",
   "metadata": {},
   "source": [
    "<h2 id=\"Seq\">Build a Logistic Regression with <code>nn.Sequential</code></h2>"
   ]
  },
  {
   "cell_type": "code",
   "execution_count": 6,
   "metadata": {},
   "outputs": [
    {
     "name": "stdout",
     "output_type": "stream",
     "text": [
      "x:  tensor([1.])\n",
      "X:  tensor([[  1.],\n",
      "        [100.]])\n"
     ]
    }
   ],
   "source": [
    "# Create x and X tensor\n",
    "x = torch.tensor([1.0])\n",
    "X = torch.tensor([[1.0], [100]])\n",
    "print('x: ', x)\n",
    "print('X: ', X)\n",
    "\n",
    "# Create a logistic regression object with the nn.Sequential module with a one-dimensional input\n",
    "model = nn.Sequential(nn.Linear(1, 1), nn.Sigmoid())"
   ]
  },
  {
   "cell_type": "markdown",
   "metadata": {},
   "source": [
    "The object is represented in the following diagram: \n",
    "<img src = \"https://s3-api.us-geo.objectstorage.softlayer.net/cf-courses-data/CognitiveClass/DL0110EN/notebook_images%20/chapter3/3.1.1_logistic_regression_block_diagram.png\" width = 800, align = \"center\" alt=\"logistic regression block diagram\" />\n",
    "\n",
    "In this case, the parameters are randomly initialized. You can view them the following ways:"
   ]
  },
  {
   "cell_type": "code",
   "execution_count": 7,
   "metadata": {},
   "outputs": [
    {
     "name": "stdout",
     "output_type": "stream",
     "text": [
      "list(model.parameters()):\n",
      " [Parameter containing:\n",
      "tensor([[0.2294]], requires_grad=True), Parameter containing:\n",
      "tensor([-0.2380], requires_grad=True)]\n",
      "\n",
      "model.state_dict():\n",
      " OrderedDict([('0.weight', tensor([[0.2294]])), ('0.bias', tensor([-0.2380]))])\n"
     ]
    }
   ],
   "source": [
    "# Print out the model parameters\n",
    "print(\"list(model.parameters()):\\n\", list(model.parameters()))\n",
    "print(\"\\nmodel.state_dict():\\n\",model.state_dict())"
   ]
  },
  {
   "cell_type": "code",
   "execution_count": 22,
   "metadata": {},
   "outputs": [
    {
     "name": "stdout",
     "output_type": "stream",
     "text": [
      "yhat:  tensor([0.4979], grad_fn=<SigmoidBackward>)\n",
      "The same as:  tensor([0.4979])\n"
     ]
    }
   ],
   "source": [
    "# make prediction with one sample (x)\n",
    "yhat = model(x)\n",
    "print(\"yhat: \", yhat)\n",
    "\n",
    "# This is the same as:\n",
    "w=model.state_dict()['0.weight'][0]\n",
    "b= model.state_dict()['0.bias'][0]\n",
    "print(\"The same as: \", torch.sigmoid(x*w + b))"
   ]
  },
  {
   "cell_type": "code",
   "execution_count": 23,
   "metadata": {},
   "outputs": [
    {
     "name": "stdout",
     "output_type": "stream",
     "text": [
      "yhat:  tensor([[0.4979],\n",
      "        [1.0000]], grad_fn=<SigmoidBackward>)\n"
     ]
    }
   ],
   "source": [
    "# Make a prediction with (X) two-dimensional vector\n",
    "yhat = model(X)\n",
    "print(\"yhat: \", yhat)"
   ]
  },
  {
   "cell_type": "code",
   "execution_count": 24,
   "metadata": {},
   "outputs": [
    {
     "name": "stdout",
     "output_type": "stream",
     "text": [
      "x =  tensor([[1., 1.]])\n",
      "X =  tensor([[1., 1.],\n",
      "        [1., 2.],\n",
      "        [1., 3.]])\n"
     ]
    }
   ],
   "source": [
    "# Create a 1x2 tensor where x represents one data sample with 2 dimensions, and 3x2 tensor X represents 3 data samples of two dimensions:\n",
    "# Create and print samples\n",
    "\n",
    "x = torch.tensor([[1.0, 1.0]])\n",
    "X = torch.tensor([[1.0, 1.0], [1.0, 2.0], [1.0, 3.0]])\n",
    "print('x = ', x)\n",
    "print('X = ', X)"
   ]
  },
  {
   "cell_type": "markdown",
   "metadata": {},
   "source": [
    "Create a logistic regression object with the <code>nn.Sequential</code> model with a two-dimensional input: "
   ]
  },
  {
   "cell_type": "code",
   "execution_count": 25,
   "metadata": {},
   "outputs": [
    {
     "name": "stdout",
     "output_type": "stream",
     "text": [
      "list(model.parameters()):\n",
      "  [Parameter containing:\n",
      "tensor([[ 0.1939, -0.0361]], requires_grad=True), Parameter containing:\n",
      "tensor([0.3021], requires_grad=True)]\n",
      "\n",
      "model.state_dict():\n",
      "  OrderedDict([('0.weight', tensor([[ 0.1939, -0.0361]])), ('0.bias', tensor([0.3021]))])\n",
      "The prediction for the 1x2 vector x:  tensor([[0.6130]], grad_fn=<SigmoidBackward>)\n",
      "The prediction the 3x2 matrix X:  tensor([[0.6130],\n",
      "        [0.6044],\n",
      "        [0.5957]], grad_fn=<SigmoidBackward>)\n"
     ]
    }
   ],
   "source": [
    "# Create a logistic object with nn.Sequential\n",
    "model = nn.Sequential(nn.Linear(2, 1), nn.Sigmoid())\n",
    "\n",
    "# Print the parameters\n",
    "print(\"list(model.parameters()):\\n \", list(model.parameters()))\n",
    "print(\"\\nmodel.state_dict():\\n \", model.state_dict())\n",
    "\n",
    "# Make the prediction of x\n",
    "yhat = model(x)\n",
    "print(\"The prediction for the 1x2 vector x: \", yhat)\n",
    "\n",
    "# The prediction of X\n",
    "yhat = model(X)\n",
    "print(\"The prediction the 3x2 matrix X: \", yhat)"
   ]
  },
  {
   "cell_type": "markdown",
   "metadata": {},
   "source": [
    "<h2 id=\"Model\">Build Custom Modules</h2>\n",
    "\n",
    "In this section, you will build a custom Module or class. The model or object function is identical to using <code>nn.Sequential</code>.\n",
    "\n",
    "<span style=\"background-color: #FFFF00; font-weight: bold;\">Create a logistic regression custom class:</span>"
   ]
  },
  {
   "cell_type": "code",
   "execution_count": 26,
   "metadata": {},
   "outputs": [],
   "source": [
    "# Create a logistic regression custom class\n",
    "\n",
    "class logistic_regression(nn.Module):\n",
    "    def __init__(self, n_inputs):\n",
    "        super(logistic_regression, self).__init__()\n",
    "        self.linear = nn.Linear(n_inputs, 1)  # as for nn.Sequential, nn.Linear randomly initialize its parameters\n",
    "        \n",
    "    # Prediction\n",
    "    def forward(self, x):\n",
    "        yhat = torch.sigmoid(self.linear(x))\n",
    "        return yhat"
   ]
  },
  {
   "cell_type": "markdown",
   "metadata": {},
   "source": [
    "## logistic_regression of one-dimentional input"
   ]
  },
  {
   "cell_type": "code",
   "execution_count": 28,
   "metadata": {},
   "outputs": [
    {
     "name": "stdout",
     "output_type": "stream",
     "text": [
      "list(model.parameters()):\n",
      " [Parameter containing:\n",
      "tensor([[-0.8085]], requires_grad=True), Parameter containing:\n",
      "tensor([0.2283], requires_grad=True)]\n",
      "\n",
      "model.state_dict():\n",
      " OrderedDict([('linear.weight', tensor([[-0.8085]])), ('linear.bias', tensor([0.2283]))])\n",
      "The prediction for tensor([[1.]])\n",
      " is \n",
      "tensor([[0.3589]], grad_fn=<SigmoidBackward>)\n",
      "The prediction for tensor([[-100.],\n",
      "        [   0.],\n",
      "        [ 100.]])\n",
      " is \n",
      "tensor([[1.0000e+00],\n",
      "        [5.5683e-01],\n",
      "        [9.7289e-36]], grad_fn=<SigmoidBackward>)\n"
     ]
    }
   ],
   "source": [
    "# Create x (1x1) and X (3x1) tensors\n",
    "x = torch.tensor([[1.0]])\n",
    "X = torch.tensor([[-100.0], [0.0], [100.0]])\n",
    "\n",
    "# Create a logistic_regression object\n",
    "model = logistic_regression(1)\n",
    "\n",
    "# Print the randomly initialized parameters\n",
    "print(\"list(model.parameters()):\\n\", list(model.parameters()))\n",
    "print(\"\\nmodel.state_dict():\\n\", model.state_dict())\n",
    "\n",
    "# Make a prediction of x\n",
    "print(\"The prediction for {}\\n is \\n{}\".format(x, model(x)))\n",
    "\n",
    "# Make a prediction of X\n",
    "print(\"The prediction for {}\\n is \\n{}\".format(X, model(X)))"
   ]
  },
  {
   "cell_type": "markdown",
   "metadata": {},
   "source": [
    "## Create a logistic_regression object with two-dimentional input"
   ]
  },
  {
   "cell_type": "code",
   "execution_count": 29,
   "metadata": {},
   "outputs": [
    {
     "name": "stdout",
     "output_type": "stream",
     "text": [
      "x =  tensor([[1., 2.]])\n",
      "X =  tensor([[ 100., -100.],\n",
      "        [   0.,    0.],\n",
      "        [-100.,  100.]])\n",
      "list(model.parameters()):\n",
      " [Parameter containing:\n",
      "tensor([[-0.6260,  0.0929]], requires_grad=True), Parameter containing:\n",
      "tensor([0.0470], requires_grad=True)]\n",
      "\n",
      "model.state_dict():\n",
      " OrderedDict([('linear.weight', tensor([[-0.6260,  0.0929]])), ('linear.bias', tensor([0.0470]))])\n",
      "The prediction for tensor([[1., 2.]])\n",
      " is \n",
      "tensor([[0.4030]], grad_fn=<SigmoidBackward>)\n",
      "The prediction for tensor([[ 100., -100.],\n",
      "        [   0.,    0.],\n",
      "        [-100.,  100.]])\n",
      " is \n",
      "tensor([[6.2528e-32],\n",
      "        [5.1175e-01],\n",
      "        [1.0000e+00]], grad_fn=<SigmoidBackward>)\n"
     ]
    }
   ],
   "source": [
    "model = logistic_regression(2)\n",
    "\n",
    "x = torch.tensor([[1.0, 2.0]])\n",
    "X = torch.tensor([[100, -100.0], [0.0, 0.0], [-100.0, 100.0]])\n",
    "print('x = ', x)\n",
    "print('X = ', X)\n",
    "\n",
    "\n",
    "# Print the randomly initialized parameters\n",
    "print(\"list(model.parameters()):\\n\", list(model.parameters()))\n",
    "print(\"\\nmodel.state_dict():\\n\", model.state_dict())\n",
    "\n",
    "# Make a prediction of x\n",
    "print(\"The prediction for {}\\n is \\n{}\".format(x, model(x)))\n",
    "\n",
    "# Make a prediction of X\n",
    "print(\"The prediction for {}\\n is \\n{}\".format(X, model(X)))"
   ]
  },
  {
   "cell_type": "code",
   "execution_count": null,
   "metadata": {},
   "outputs": [],
   "source": []
  }
 ],
 "metadata": {
  "kernelspec": {
   "display_name": "Python 3",
   "language": "python",
   "name": "python3"
  },
  "language_info": {
   "codemirror_mode": {
    "name": "ipython",
    "version": 3
   },
   "file_extension": ".py",
   "mimetype": "text/x-python",
   "name": "python",
   "nbconvert_exporter": "python",
   "pygments_lexer": "ipython3",
   "version": "3.7.6"
  }
 },
 "nbformat": 4,
 "nbformat_minor": 4
}
